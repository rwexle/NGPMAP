{
 "cells": [
  {
   "cell_type": "code",
   "execution_count": null,
   "metadata": {},
   "outputs": [],
   "source": [
    "import requests\n",
    "import re\n",
    "import time\n",
    "\n",
    "import pandas as pd\n",
    "import lxml\n",
    "from bs4 import BeautifulSoup\n",
    "from unicodedata import normalize\n",
    "from geopy.geocoders import Nominatim\n",
    "from haversine import haversine\n",
    "#import matplotlib.pyplot as plt\n",
    "import numpy as np\n",
    "from openpyxl import load_workbook\n",
    "import xlsxwriter\n",
    "import descartes\n",
    "#from shapely.geometry import Point, Polygon\n",
    "# Import necessary packages\n",
    "import os \n",
    "import folium\n",
    "from folium import plugins\n",
    "import geopandas as gpd\n",
    "#import rasterio as rio\n",
    "#from rasterio.warp import calculate_default_transform, reproject, Resampling\n",
    "import earthpy as et\n",
    "from folium.plugins import MarkerCluster, HeatMap\n",
    "from folium.plugins import FastMarkerCluster,FeatureGroupSubGroup\n",
    "from folium import Popup\n",
    "from flask import Flask\n",
    "pd.options.display.max_rows = 4000\n",
    "import IPython\n",
    "from IPython.display import HTML, display\n",
    "import panel as pn\n",
    "import math\n",
    "#import fiona\n",
    "import json\n",
    "from collections import Counter\n",
    "import geojson\n",
    "import us\n",
    "import branca.colormap as cm\n",
    "import datetime as dt\n",
    "\n",
    "%matplotlib inline\n"
   ]
  },
  {
   "cell_type": "code",
   "execution_count": null,
   "metadata": {},
   "outputs": [],
   "source": [
    "df =  pd.read_csv(\"searchfund_allV6.csv\")"
   ]
  },
  {
   "cell_type": "code",
   "execution_count": null,
   "metadata": {},
   "outputs": [],
   "source": [
    "df[\"formed\"][0]"
   ]
  },
  {
   "cell_type": "code",
   "execution_count": null,
   "metadata": {},
   "outputs": [],
   "source": [
    "#cleaning the initial df anddropping values with no search lat/long\n",
    "df = df.drop(columns = [\"Unnamed: 0\"])\n",
    "df.drop(df.loc[np.isnan(df['search lat']) ==True].index, inplace=True)\n",
    "df = df.reset_index(drop = True)"
   ]
  },
  {
   "cell_type": "code",
   "execution_count": null,
   "metadata": {},
   "outputs": [],
   "source": [
    "#creating a dataframe for the acuisitions for easier anlaysis\n",
    "acq_df = df[[\"acquisition lat\", 'acquisition long', 'company','industry','acquired', 'name', 'companyWebsite', 'searchWebsite']]\n",
    "acq_df.drop(df.loc[np.isnan(df[\"acquisition lat\"]) == True].index, inplace = True)\n",
    "acq_df = acq_df.reset_index(drop = True)"
   ]
  },
  {
   "cell_type": "code",
   "execution_count": null,
   "metadata": {},
   "outputs": [],
   "source": [
    "univ_df = pd.read_csv(\"Colleges_and_Universities.csv\")\n",
    "univ_df = univ_df[[\"LATITUDE\",'LONGITUDE','NAME','ADDRESS','CITY','STATE','ZIP','TELEPHONE','NAICS_DESC','TOT_ENROLL','WEBSITE']]\n",
    "f500_df = pd.read_csv(\"Fortune_500_Corporate_Headquarters.csv\")\n",
    "f500_df = f500_df[[\"LATITUDE\",'LONGITUDE','NAME','ADDRESS','CITY','STATE','ZIP','COUNTY','RANK','EMPLOYEES','REVENUES','PROFIT','WEBSITE']]"
   ]
  },
  {
   "cell_type": "code",
   "execution_count": null,
   "metadata": {},
   "outputs": [],
   "source": [
    "#trying to create easily acessible data fields for the popups\n",
    "search_locations = list(zip(df[\"search lat\"], df['search long']))\n",
    "acquisition_locations = list(zip(acq_df['acquisition lat'], acq_df['acquisition long']))\n",
    "acquisition_companies = list(acq_df['company'])\n",
    "starbucks = pd.read_csv('starbucks_csv.csv').reset_index(drop = True)\n",
    "whole_foods = pd.read_csv(r'new_whole_foods.csv')\n",
    "apple = pd.read_csv(r'New_Apple.csv')\n",
    "universities = pd.read_csv(r'Colleges_and_Universities.csv')#################################\n",
    "fortune500s = pd.read_csv(r'Fortune_500_Corporate_Headquarters.csv')#################################\n",
    "starbucks_loc = list(zip(starbucks['Latitude'], starbucks['Longitude']))\n",
    "whole_loc = list(zip(whole_foods['Latitude'], whole_foods['Longitude']))\n",
    "apple_loc = list(zip(apple['Latitude'], apple['Longitude']))\n",
    "university_loc = list(zip(univ_df['LATITUDE'],univ_df['LONGITUDE']))###########################\n",
    "f500_loc = list(zip(f500_df['LATITUDE'],f500_df['LONGITUDE']))###########################"
   ]
  },
  {
   "cell_type": "code",
   "execution_count": null,
   "metadata": {},
   "outputs": [],
   "source": [
    "#creating the default map and the marker clusters\n",
    "county_map = folium.Map(location=[48,-102], zoom_start = 2, title = \"mapbox\")\n",
    "searcher_cluster = MarkerCluster(name = \"Cluster of Searchers\").add_to(county_map)\n",
    "acquisition_cluster = MarkerCluster(name = \"Cluster of Acquisitions\").add_to(county_map)\n",
    "universities_cluster = MarkerCluster(name = \"Cluster of Universities\").add_to(county_map)##########################\n",
    "fortune500s_cluster = MarkerCluster(name = \"Cluster of Fortune 500 Companies\").add_to(county_map)##########################\n",
    "#adding toggle layers to the county mapS\n",
    "#folium.LayerControl().add_to(county_map)"
   ]
  },
  {
   "cell_type": "code",
   "execution_count": null,
   "metadata": {
    "scrolled": true
   },
   "outputs": [],
   "source": [
    "acq_df"
   ]
  },
  {
   "cell_type": "code",
   "execution_count": null,
   "metadata": {
    "scrolled": true
   },
   "outputs": [],
   "source": [
    "#first example of adding acquistion locations onto the map, issues with adding a detailed popup - won't go past 300 in visualization\n",
    "#for point in range(0, len(acquisition_locations)):\n",
    "#    folium.Marker(acquisition_locations[point], popup = \"Acquistion:\", icon=folium.Icon(color='red', prefix = 'fa', icon_color = 'white', icon = 'check')).add_to(acquisition_cluster)\n",
    "for i in range(0, len(acquisition_locations)):\n",
    "    html=f\"\"\"\n",
    "        <h1 style=\"font-size:20px\"> Company Acquired: {acq_df.iloc[i]['company']}</h1>\n",
    "        <p>Characteristics:</p>\n",
    "        <ul>\n",
    "            <li>Industry: <b><br>{acq_df.iloc[i]['industry']}</b><br> </li>\n",
    "            <li>Acquired By: <b><br>{acq_df.iloc[i]['name']}</b><br> </li>\n",
    "            <li>Date of Acquisition: <b><br>{acq_df.iloc[i]['acquired']}</b><br></li>\n",
    "            <li>Company Website (If Applicable): <b><br> <a href = {acq_df.iloc[i]['companyWebsite']}> {acq_df.iloc[i]['companyWebsite']} </a> </b><br></li>\n",
    "        </ul>\n",
    "        \"\"\"\n",
    "    iframe = folium.IFrame(html=html, width=200, height=200)\n",
    "    popup = folium.Popup(iframe, max_width=2000)\n",
    "    folium.Marker(acquisition_locations[i], popup = popup , icon=folium.Icon(color='red', prefix = 'fa', icon_color = 'white', icon = 'check')).add_to(acquisition_cluster)"
   ]
  },
  {
   "cell_type": "code",
   "execution_count": null,
   "metadata": {},
   "outputs": [],
   "source": [
    "#adding html to searchers\n",
    "# add marker one by one on marker cluster\n",
    "for i in range(0, len(search_locations)):\n",
    "    html=f\"\"\"\n",
    "        <h1 style=\"font-size:20px\"> Search Fund:{df.iloc[i]['name']}</h1>\n",
    "        <p>Characteristics:</p>\n",
    "        <ul>\n",
    "            <li>Founded: <b><br>{df.iloc[i]['formed']}</b><br> </li>\n",
    "            <li>Stage: <b><br>{df.iloc[i]['stage']}</b><br></li>\n",
    "            <li>Company Acquired(If Applicable): <b><br>{df.iloc[i]['company']}</b><br></li>\n",
    "            <li>Date of Acquisition: <b><br>{df.iloc[i]['acquired']}</b><br></li>\n",
    "            <li>Length of Search (In Days): <b><br>{df.iloc[i]['Search Length']}</b><br></li>\n",
    "            <li>Search Fund Website (If Applicable): <b><br> <a href = {df.iloc[i]['searchWebsite']}> {df.iloc[i]['searchWebsite']} </a> </b><br></li>\n",
    "            <li>Company Acquired Website (If Applicable): <b><br> <a href = {df.iloc[i]['companyWebsite']}> {df.iloc[i]['companyWebsite']} </a> </b><br></li>\n",
    "        </ul>\n",
    "        \"\"\"\n",
    "    iframe = folium.IFrame(html=html, width=200, height=200)\n",
    "    popup = folium.Popup(iframe, max_width=2000)\n",
    "    folium.Marker(\n",
    "        location=search_locations[i],\n",
    "        popup=popup,\n",
    "        icon=folium.Icon(color='blue', prefix = 'fa', icon_color = 'white', icon = 'search')\n",
    "    ).add_to(searcher_cluster)"
   ]
  },
  {
   "cell_type": "code",
   "execution_count": null,
   "metadata": {},
   "outputs": [],
   "source": [
    "for i in range(0,len(fortune500s)):##################################\n",
    "    html=f\"\"\"\n",
    "        <h1 style=\"font-size:20px\"> Company: {f500_df.iloc[i]['NAME']}</h1>\n",
    "        <p>Characteristics:</p>\n",
    "        <ul>\n",
    "            <li>Rank: <b><br>{f500_df.iloc[i]['RANK']}</b><br> </li>\n",
    "            <li>Address: <b><br>{f500_df.iloc[i]['ADDRESS']}</b><br></li>\n",
    "            <li>City: <b><br>{f500_df.iloc[i]['CITY']}</b><br> </li>\n",
    "            <li>State: <b><br>{f500_df.iloc[i]['STATE']}</b><br></li>\n",
    "            <li>Zip: <b><br>{f500_df.iloc[i]['ZIP']}</b><br> </li>\n",
    "            <li>Employees: <b><br>{f500_df.iloc[i]['EMPLOYEES']}</b><br> </li>\n",
    "            <li>Company Website (If Applicable): <b><br> <a href = {f500_df.iloc[i]['WEBSITE']}> {f500_df.iloc[i]['WEBSITE']} </a> </b><br></li>\n",
    "        </ul>\n",
    "        \"\"\"\n",
    "    iframe = folium.IFrame(html=html, width=200, height=200)\n",
    "    popup = folium.Popup(iframe, max_width=2000)\n",
    "    folium.Marker(f500_loc[i], popup = popup , icon=folium.Icon(color='beige', prefix = 'fa', icon_color = 'black', icon = 'building')).add_to(fortune500s_cluster)"
   ]
  },
  {
   "cell_type": "code",
   "execution_count": null,
   "metadata": {},
   "outputs": [],
   "source": [
    "for i in range(0,len(universities)):##################################\n",
    "    html=f\"\"\"\n",
    "        <h1 style=\"font-size:20px\"> University: {univ_df.iloc[i]['NAME']}</h1>\n",
    "        <p>Characteristics:</p>\n",
    "        <ul>\n",
    "            <li>Description: <b><br>{univ_df.iloc[i]['NAICS_DESC']}</b><br> </li>\n",
    "            <li>Total Enrollment: <b><br>{univ_df.iloc[i]['TOT_ENROLL']}</b><br></li>\n",
    "            <li>City: <b><br>{univ_df.iloc[i]['CITY']}</b><br> </li>\n",
    "            <li>State: <b><br>{univ_df.iloc[i]['STATE']}</b><br></li>\n",
    "            <li>University Website (If Applicable): <b><br> <a href = {univ_df.iloc[i]['WEBSITE']}> {univ_df.iloc[i]['WEBSITE']} </a> </b><br></li>\n",
    "        </ul>\n",
    "        \"\"\"\n",
    "    iframe = folium.IFrame(html=html, width=200, height=200)\n",
    "    popup = folium.Popup(iframe, max_width=2000)\n",
    "    folium.Marker(university_loc[i], popup = popup , icon=folium.Icon(color='gray', prefix = 'fa', icon_color = 'white', icon = 'graduation-cap')).add_to(universities_cluster)"
   ]
  },
  {
   "cell_type": "code",
   "execution_count": null,
   "metadata": {},
   "outputs": [],
   "source": [
    "#loading in the counties with locations\n",
    "cs_df = pd.read_csv(\"county_location.csv\")\n",
    "county_est_pop = pd.read_csv(\"co-est2019-annres.csv\")\n",
    "county_crime = pd.read_csv(\"crime_data_w_population_and_crime_rate.csv\")\n",
    "county_density_NY_TX = pd.read_csv(\"NY Counties - Population Data.csv\")\n",
    "\n",
    "fips = us.states.mapping('fips', 'name')\n",
    "fips_2 = us.states.mapping('name', 'fips')\n",
    "#creating a geodataframe for all US Counties\n",
    "gdf = gpd.read_file('counties.geojson')\n",
    "gdf = gdf.rename(columns = {'NAME':'County'})\n",
    "\n",
    "#Dropping all search funds not in the united states\n",
    "cs_df.drop(cs_df.loc[cs_df['Country']!='United States'].index, inplace=True)\n",
    "cs_df = cs_df.dropna()\n",
    "#cleaning data so it can be merged\n",
    "cs_df[\"County\"] = cs_df['County'].str.replace(' County','')\n",
    "county_est_pop[\"County\"] = county_est_pop['County'].str.replace(' County','')\n",
    "county_crime[\"County\"] = county_crime['County'].str.replace(' County','')\n",
    "county_density_NY_TX[\"County\"] = county_density_NY_TX['County'].str.replace(' County','')\n",
    "#mapping state codes onto counties so overlap is accounted for\n",
    "cs_df['STATEFP'] = cs_df['State'].map(fips_2)\n",
    "\n",
    "#grouping the variables to count the amount of searchers in each stage\n",
    "stage = cs_df.groupby(['Stage','County', 'STATEFP'], as_index = False).size().pivot([\"County\", \"STATEFP\"], [\"Stage\"]).fillna(0)\n",
    "stage = stage.reset_index()\n",
    "#merging the GDF and County information to one large dataframe\n",
    "stage_df = pd.merge(gdf, stage,  how='left', left_on=['STATEFP','County'], right_on = ['STATEFP','County']).fillna(0)\n",
    "stage_df = stage_df.rename(columns={('size', 'Acquired'): \"Acquired\", ('size', 'Explore'): \"Explore\", ('size', 'Inactive'): \"Inactive\", ('size', 'Raise'): 'Raise', ('size', 'Search'): 'Search'})\n",
    "\n",
    "#turning the dataframe into a json so it can be read by the map\n",
    "county_json = stage_df.to_json()"
   ]
  },
  {
   "cell_type": "code",
   "execution_count": null,
   "metadata": {},
   "outputs": [],
   "source": [
    "cs_df"
   ]
  },
  {
   "cell_type": "code",
   "execution_count": null,
   "metadata": {},
   "outputs": [],
   "source": [
    "county_colormap = cm.LinearColormap([\"cyan\", \"blue\", \"darkblue\"], vmin = 1, vmax = stage_df[\"Search\"].max())\n",
    "county_colormap.caption = \"Searchers Per County\"\n",
    "style_function = lambda x: {\"weight\":0.5, \n",
    "                            'color': \"black\",\n",
    "                            'fillColor':county_colormap(x['properties']['Search']) if 0 < x['properties']['Search'] else '#00000000',\n",
    "                            'fillOpacity':0.75}\n",
    "highlight_function = lambda x: {'fillColor': '#000000', \n",
    "                                'color':'#000000', \n",
    "                                'fillOpacity': 0.50, \n",
    "                                'weight': 0.1}\n",
    "county=folium.features.GeoJson(\n",
    "        data = county_json,\n",
    "        style_function=style_function,\n",
    "        name = \"County Hover Tool\",\n",
    "        control=True,\n",
    "        overlay = True,\n",
    "        show = False,\n",
    "        highlight_function=highlight_function,\n",
    "        tooltip=folium.features.GeoJsonTooltip(\n",
    "            fields=['County','Search', 'Explore', 'Raise', 'Acquired', 'Inactive'],\n",
    "            aliases=['County: ','Currently Searching: ', 'Currently Exploring: ', 'Currently Raising: ', 'Acquired: ', 'Inactive: '],\n",
    "            style=(\"background-color: white; color: #333333; font-family: arial; font-size: 12px; padding: 10px;\"),\n",
    "            sticky=True\n",
    "        )\n",
    "    )\n",
    "county_colormap.add_to(county_map)\n",
    "county_map.add_child(county)"
   ]
  },
  {
   "cell_type": "code",
   "execution_count": null,
   "metadata": {},
   "outputs": [],
   "source": [
    "#adding cluster groups for starbucks, apple stores, and whole foods\n",
    "cluster_1 = MarkerCluster(name = \"Cluster of Starbucks\").add_to(county_map)\n",
    "cluster_2 = MarkerCluster(name = \"Cluster of Apple Stores\").add_to(county_map)\n",
    "cluster_3 = MarkerCluster(name = \"Cluster of Whole Foods\").add_to(county_map)\n",
    "#adding toggle layers to the county mapS\n",
    "#adding markers for all starbucks, apple stores, and whole foods in the US\n",
    "for point in range(0, len(starbucks_loc)):\n",
    "    try:\n",
    "        folium.Marker(starbucks_loc[point], popup = \"<br> <b>Starbucks</b> <br>\" , icon=folium.Icon(icon = \"coffee\", color = 'pink', icon_color='white', prefix = 'fa'), overlay = True).add_to(cluster_1)\n",
    "    except KeyError:\n",
    "        print(\"KeyError\")\n",
    "for point in range(0, len(apple_loc)):\n",
    "    try:\n",
    "        folium.Marker(apple_loc[point], popup = \"<br> <b>Apple Store</b> <br>\" , icon=folium.Icon(icon = \"apple\", color = 'black', icon_color='white', prefix = 'fa')).add_to(cluster_2)\n",
    "    except KeyError:\n",
    "        print(\"KeyError\")\n",
    "for point in range(0, len(whole_loc)):\n",
    "    try:\n",
    "        folium.Marker(whole_loc[point], popup = \"<br> <b>Whole Foods</b> <br>\" , icon=folium.Icon(icon = \"shopping-bag\", color = 'lightgreen', icon_color='white', prefix = 'fa')).add_to(cluster_3)\n",
    "    except KeyError:\n",
    "        print(\"KeyError\")"
   ]
  },
  {
   "cell_type": "code",
   "execution_count": null,
   "metadata": {},
   "outputs": [],
   "source": [
    "#MSA CHOROPLETH\n",
    "#Reading in MSA DATA\n",
    "geo_data = gpd.read_file('tl_2019_us_cbsa.json')\n",
    "cities = pd.read_excel('CitiesRankings.xlsx')\n",
    "cities['MSA'] = cities['MSA'].str.replace(\" MSA\", \"\")\n",
    "cities = cities.rename(columns={\"MSA\": \"NAME\"})\n",
    "cities_set = set(cities[\"NAME\"])\n",
    "data_set = set(geo_data['NAME'])\n",
    "#finding mismatch MSA's\n",
    "c = list(cities_set.difference(data_set))"
   ]
  },
  {
   "cell_type": "code",
   "execution_count": null,
   "metadata": {},
   "outputs": [],
   "source": [
    "#final_df = pd.merge(geo_data, cities, on = \"NAME\", how = 'outer')\n",
    "#final_df = final_df.fillna(0)\n"
   ]
  },
  {
   "cell_type": "code",
   "execution_count": null,
   "metadata": {},
   "outputs": [],
   "source": [
    "#final_df[\"geometry\"] = final_df[\"geometry\"].simplify(tolerance = 0.7)\n"
   ]
  },
  {
   "cell_type": "code",
   "execution_count": null,
   "metadata": {},
   "outputs": [],
   "source": [
    "#final_df = pd.merge(geo_data, cities, on = \"NAME\", how = 'outer')\n",
    "#final_df[\"Total Ranking\"] = final_df['Total Ranking'].fillna(0)\n",
    "#final_df[\"geometry\"] = final_df[\"geometry\"].simplify(tolerance = 0.7)\n",
    "#geometry = final_df[\"geometry\"].simplify(tolerance = 0.7)"
   ]
  },
  {
   "cell_type": "code",
   "execution_count": null,
   "metadata": {},
   "outputs": [],
   "source": [
    "#MSA Choropleth\n",
    "#finding the index in the cities df of all mismatched MSA's\n",
    "city_index = []\n",
    "for i in [\"Buffalo\", \"Detroit\", \"Hilton\", \"Miami\", \"Nashville\", \"New York\", \"Scranton\"]:\n",
    "    city = cities.loc[cities[\"NAME\"].str.contains(i, case = False)]\n",
    "    city_index.append(city[\"NAME\"].index[0])\n",
    "#finding the proper names of the MSA's given by the US Census Data\n",
    "city_names = []\n",
    "for i in [\"Buffalo\", \"Detroit\", \"Hilton\", \"Miami\", \"Nashville\", \"New York\", \"Scranton\"]:\n",
    "    city_name = geo_data.loc[geo_data[\"NAME\"].str.contains(i, case = False)]\n",
    "    #print(city_name[\"NAME\"].index[0])\n",
    "    city_name = city_name.iloc[0].NAME\n",
    "    city_names.append(city_name)\n",
    "#replacing all values in the cities df with the correct name\n",
    "count = 0\n",
    "for i in city_index:\n",
    "    cities.at[i, \"NAME\"] = city_names[count]\n",
    "    count += 1\n"
   ]
  },
  {
   "cell_type": "code",
   "execution_count": null,
   "metadata": {},
   "outputs": [],
   "source": [
    "final_df = pd.merge(geo_data, cities, on = \"NAME\", how = 'outer')\n",
    "final_df[\"Total Ranking\"] = final_df['Total Ranking'].fillna(0)\n",
    "#final_df = final_df.simplify(tolerance = 0.1)\n",
    "#final_df[\"geometry\"] = final_df[\"geometry\"].simplify(tolerance = 0.5)"
   ]
  },
  {
   "cell_type": "code",
   "execution_count": null,
   "metadata": {},
   "outputs": [],
   "source": [
    "final_df[\"geometry\"] = final_df[\"geometry\"].simplify(tolerance = 0.9)"
   ]
  },
  {
   "cell_type": "code",
   "execution_count": null,
   "metadata": {},
   "outputs": [],
   "source": [
    "msa_json = final_df.to_json()"
   ]
  },
  {
   "cell_type": "code",
   "execution_count": null,
   "metadata": {},
   "outputs": [],
   "source": [
    "#finding the center of each MSA in the final_df and then making it into a tuple to use as a point\n",
    "centers = list(zip(list(final_df[\"geometry\"].centroid.y), list(final_df[\"geometry\"].centroid.x)))\n",
    "#adding a star for every MSA that is in the top 25\n",
    "msa_cluster = MarkerCluster(name = \"Top 25 MSAs\").add_to(county_map)\n",
    "for point in range(0, len(centers)):\n",
    "    if 0 <final_df.iloc[point][\"Total Ranking\"] <= 25.0:\n",
    "        html=f\"\"\"\n",
    "            <h1 style=\"font-size:20px\"> MSA Name: {final_df.iloc[point]['NAME']}</h1>\n",
    "            <p>Characteristics:</p>\n",
    "            <ul>\n",
    "                <li>Total Ranking: <b><br>{final_df.iloc[point]['Total Ranking']} / 357 </b><br></li>\n",
    "                <li>Ease of Business Ranking: <b><br>{final_df.iloc[point]['Ease of Business ']}</b><br></li>\n",
    "                <li>Growth Ranking: <b><br>{final_df.iloc[point]['Growth']}</b><br></li>\n",
    "                <li>Size Ranking: <b><br>{final_df.iloc[point]['Size']}</b><br></li>\n",
    "            </ul>\n",
    "            \"\"\"\n",
    "        iframe = folium.IFrame(html=html, width=200, height=200)\n",
    "        popup = folium.Popup(iframe, max_width=2000)\n",
    "        folium.Marker(\n",
    "            location=centers[point],\n",
    "            popup=popup,\n",
    "            icon=folium.Icon(color='orange', prefix = 'fa', icon_color = 'white', icon = 'star')\n",
    "        ).add_to(msa_cluster)"
   ]
  },
  {
   "cell_type": "code",
   "execution_count": null,
   "metadata": {},
   "outputs": [],
   "source": []
  },
  {
   "cell_type": "code",
   "execution_count": null,
   "metadata": {},
   "outputs": [],
   "source": [
    "colormap = cm.LinearColormap([\"green\", \"yellow\", \"orange\", \"red\"], vmin = 1, vmax = final_df[\"Total Ranking\"].max())\n",
    "colormap.caption = \"Ranking of US MSAs\"\n",
    "style_function = lambda x: {\"weight\":0.5, \n",
    "                            'color':'black',\n",
    "                            'fillColor':colormap(x['properties']['Total Ranking']) if 0 < x['properties']['Total Ranking'] <= 357.0 else 'white',\n",
    "                            'fillOpacity':0.75}\n",
    "highlight_function = lambda x: {'fillColor': '#000000', \n",
    "                                'color':'#000000', \n",
    "                                'fillOpacity': 0.50, \n",
    "                                'weight': 0.1}\n",
    "msa=folium.features.GeoJson(\n",
    "        data = msa_json,\n",
    "        style_function=style_function,\n",
    "        name = \"MSA Hover Tool\",\n",
    "        control=True,\n",
    "        overlay = True,\n",
    "        show = False,\n",
    "        highlight_function=highlight_function,\n",
    "        tooltip=folium.features.GeoJsonTooltip(\n",
    "            fields=['NAME','Total Ranking', 'Ease of Business ', 'Size', 'Growth'],\n",
    "            aliases=['Name: ','Total Ranking: ', 'Ease of Business Ranking: ', 'Size Ranking: ', 'Growth Ranking: '],\n",
    "            style=(\"background-color: white; color: #333333; font-family: arial; font-size: 12px; padding: 10px;\"),\n",
    "            sticky=True\n",
    "        )\n",
    "    )\n",
    "colormap.add_to(county_map)\n",
    "county_map.add_child(msa)"
   ]
  },
  {
   "cell_type": "code",
   "execution_count": null,
   "metadata": {},
   "outputs": [],
   "source": [
    "underfished = pd.read_csv('underfished.csv')\n",
    "underfished_loc = list(zip(underfished['INTPTLAT'], underfished['INTPTLON']))\n",
    "#adding a star for every MSA that is in the top 25\n",
    "underfished_cluster = MarkerCluster(name = \"Underfished Cities\").add_to(county_map)\n",
    "for point in range(0, len(underfished_loc)):\n",
    "        html=f\"\"\"\n",
    "            <h1 style=\"font-size:20px\"> MSA Name: {underfished.iloc[point]['NAME']}</h1>\n",
    "            <p>Characteristics:</p>\n",
    "            <ul>\n",
    "                <li>Total Ranking: <b><br>{underfished.iloc[point]['Total Ranking']} / 357  </b><br></li>\n",
    "                <li>Ease of Business Ranking: <b><br>{underfished.iloc[point]['Ease of Business ']}</b><br></li>\n",
    "                <li>Growth Ranking: <b><br>{underfished.iloc[point]['Growth']}</b><br></li>\n",
    "                <li>Size Ranking: <b><br>{underfished.iloc[point]['Size']}</b><br></li>\n",
    "            </ul>\n",
    "            \"\"\"\n",
    "        iframe = folium.IFrame(html=html, width=200, height=200)\n",
    "        popup = folium.Popup(iframe, max_width=2000)\n",
    "        folium.Marker(\n",
    "            location=underfished_loc[point],\n",
    "            popup=popup,\n",
    "            icon=folium.Icon(color='purple', prefix = 'fa', icon_color = 'white', icon = 'arrow-down')\n",
    "        ).add_to(underfished_cluster)"
   ]
  },
  {
   "cell_type": "code",
   "execution_count": null,
   "metadata": {},
   "outputs": [],
   "source": [
    "#adding a layer to control the features on the map\n",
    "folium.LayerControl().add_to(county_map)\n",
    "county_map"
   ]
  },
  {
   "cell_type": "code",
   "execution_count": null,
   "metadata": {},
   "outputs": [],
   "source": [
    "#outputting the map to an html file **Make sure to change version upon update\n",
    "outfp = \"county_mapv7.html\"\n",
    "county_map.save(outfp)"
   ]
  },
  {
   "cell_type": "code",
   "execution_count": null,
   "metadata": {},
   "outputs": [],
   "source": [
    "#sizing down the county_map"
   ]
  },
  {
   "cell_type": "code",
   "execution_count": null,
   "metadata": {},
   "outputs": [],
   "source": []
  },
  {
   "cell_type": "code",
   "execution_count": null,
   "metadata": {},
   "outputs": [],
   "source": []
  }
 ],
 "metadata": {
  "kernelspec": {
   "display_name": "Python 3",
   "language": "python",
   "name": "python3"
  },
  "language_info": {
   "codemirror_mode": {
    "name": "ipython",
    "version": 3
   },
   "file_extension": ".py",
   "mimetype": "text/x-python",
   "name": "python",
   "nbconvert_exporter": "python",
   "pygments_lexer": "ipython3",
   "version": "3.8.5"
  }
 },
 "nbformat": 4,
 "nbformat_minor": 5
}
