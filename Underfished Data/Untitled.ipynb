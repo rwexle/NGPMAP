{
 "cells": [
  {
   "cell_type": "code",
   "execution_count": 48,
   "id": "1edfea95",
   "metadata": {},
   "outputs": [],
   "source": [
    "import pandas as pd\n",
    "import numpy as np"
   ]
  },
  {
   "cell_type": "code",
   "execution_count": 66,
   "id": "5dd8ce83",
   "metadata": {},
   "outputs": [],
   "source": [
    "cities = pd.read_csv(\"city_ranking.csv\")"
   ]
  },
  {
   "cell_type": "code",
   "execution_count": 67,
   "id": "e0d7b292",
   "metadata": {},
   "outputs": [],
   "source": [
    "employees = pd.read_csv(\"msa_business.csv\")"
   ]
  },
  {
   "cell_type": "code",
   "execution_count": 68,
   "id": "0adad1bb",
   "metadata": {},
   "outputs": [],
   "source": [
    "stats = pd.read_csv(\"2018bds_msa.csv\")"
   ]
  },
  {
   "cell_type": "code",
   "execution_count": 69,
   "id": "b42c6897",
   "metadata": {},
   "outputs": [],
   "source": [
    "daniel = pd.read_csv(\"daniel_stats.csv\")"
   ]
  },
  {
   "cell_type": "code",
   "execution_count": 70,
   "id": "c53eb8d9",
   "metadata": {},
   "outputs": [],
   "source": [
    "daniel = daniel.rename(columns = {'Ranking': \"Total Ranking\"})\n",
    "daniel = daniel.drop(columns = [\"MSA\"])"
   ]
  },
  {
   "cell_type": "code",
   "execution_count": null,
   "id": "6483b14d",
   "metadata": {},
   "outputs": [],
   "source": []
  },
  {
   "cell_type": "code",
   "execution_count": 71,
   "id": "44f43334",
   "metadata": {},
   "outputs": [],
   "source": [
    "daniel = daniel.astype({\"Total Ranking\": float})"
   ]
  },
  {
   "cell_type": "code",
   "execution_count": 72,
   "id": "a8f27553",
   "metadata": {},
   "outputs": [
    {
     "data": {
      "text/plain": [
       "numpy.float64"
      ]
     },
     "execution_count": 72,
     "metadata": {},
     "output_type": "execute_result"
    }
   ],
   "source": [
    "type(daniel[\"Total Ranking\"][0])"
   ]
  },
  {
   "cell_type": "code",
   "execution_count": 73,
   "id": "a9386c72",
   "metadata": {},
   "outputs": [],
   "source": [
    "stats = stats.rename(columns={\"msa\": \"MSA\"})"
   ]
  },
  {
   "cell_type": "code",
   "execution_count": 74,
   "id": "aa84302f",
   "metadata": {},
   "outputs": [],
   "source": [
    "cities = cities.drop(columns = ['Unnamed: 0','geometry'])"
   ]
  },
  {
   "cell_type": "code",
   "execution_count": 75,
   "id": "0a4bc039",
   "metadata": {},
   "outputs": [],
   "source": [
    "cities = cities.rename(columns = {'CBSAFP': \"MSA\"})"
   ]
  },
  {
   "cell_type": "code",
   "execution_count": 76,
   "id": "8d768ef7",
   "metadata": {},
   "outputs": [],
   "source": [
    "cities_merge = pd.merge(cities, stats, on='MSA', how='outer')"
   ]
  },
  {
   "cell_type": "code",
   "execution_count": 77,
   "id": "0e27deed",
   "metadata": {},
   "outputs": [],
   "source": [
    "cities_merge = pd.merge(cities_merge, employees, on='MSA', how = 'outer')"
   ]
  },
  {
   "cell_type": "code",
   "execution_count": 78,
   "id": "309b31b8",
   "metadata": {},
   "outputs": [],
   "source": [
    "cities_merge = pd.merge(cities_merge, daniel, on='Total Ranking', how = 'outer', )"
   ]
  },
  {
   "cell_type": "code",
   "execution_count": 79,
   "id": "19069d1a",
   "metadata": {},
   "outputs": [],
   "source": [
    "cities_merge = cities_merge[cities_merge['Total Ranking'].notna()]\n"
   ]
  },
  {
   "cell_type": "code",
   "execution_count": 85,
   "id": "f048084f",
   "metadata": {},
   "outputs": [],
   "source": [
    "cities_merge = cities_merge.sort_values(by=['Total Ranking'])"
   ]
  },
  {
   "cell_type": "code",
   "execution_count": 92,
   "id": "13d06aa6",
   "metadata": {},
   "outputs": [],
   "source": [
    "cities_merge.to_csv(\"Underfished ranking.csv\", index = False)"
   ]
  },
  {
   "cell_type": "code",
   "execution_count": null,
   "id": "ea07e046",
   "metadata": {},
   "outputs": [],
   "source": []
  }
 ],
 "metadata": {
  "kernelspec": {
   "display_name": "Python 3 (ipykernel)",
   "language": "python",
   "name": "python3"
  },
  "language_info": {
   "codemirror_mode": {
    "name": "ipython",
    "version": 3
   },
   "file_extension": ".py",
   "mimetype": "text/x-python",
   "name": "python",
   "nbconvert_exporter": "python",
   "pygments_lexer": "ipython3",
   "version": "3.9.6"
  }
 },
 "nbformat": 4,
 "nbformat_minor": 5
}
